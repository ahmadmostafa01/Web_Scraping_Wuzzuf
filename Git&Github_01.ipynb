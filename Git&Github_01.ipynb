{
  "cells": [
    {
      "cell_type": "markdown",
      "metadata": {
        "id": "view-in-github",
        "colab_type": "text"
      },
      "source": [
        "<a href=\"https://colab.research.google.com/github/ahmadmostafa01/Web_Scraping_Wuzzuf/blob/main/Git%26Github_01.ipynb\" target=\"_parent\"><img src=\"https://colab.research.google.com/assets/colab-badge.svg\" alt=\"Open In Colab\"/></a>"
      ]
    },
    {
      "cell_type": "markdown",
      "metadata": {
        "id": "X1HAFLbSV61u"
      },
      "source": [
        "# Tutorial: Git & Github"
      ]
    },
    {
      "cell_type": "markdown",
      "metadata": {
        "id": "rT_muqLwNWu7"
      },
      "source": [
        "## 0- Versions Problem"
      ]
    },
    {
      "cell_type": "markdown",
      "metadata": {
        "id": "o9WrZvuINWu7"
      },
      "source": [
        "<center>\n",
        "\n",
        "<table>\n",
        "\n",
        "<tr>\n",
        "\n",
        "<td><img src=\"https://miro.medium.com/max/640/1*oCJb90-FMEYfcULslRr3Iw.webp\" width=\"390px\"></td>\n",
        "\n",
        "<td><img src=\"https://pbs.twimg.com/media/FIrhW0ZXMA0U3PX?format=jpg&name=900x900\" width=\"370px\"></td>\n",
        "\n",
        "\n",
        "</tr>\n",
        "\n",
        "<tr>\n",
        "\n",
        "<td> credit: <a href=\"https://matvenn.medium.com/\">Medium</a> </td>\n",
        "\n",
        "<td> credit: <a href=\"https://twitter.com/openacademics\">OpenAcademics</a> </td>\n",
        "\n",
        "</tr>\n",
        "\n",
        "</table>\n",
        "\n",
        "</center>"
      ]
    },
    {
      "cell_type": "markdown",
      "metadata": {
        "id": "Vq4FPjtWNWu8"
      },
      "source": [
        "<center>\n",
        "\n",
        "<img src=\"https://www.insperity.com/wp-content/uploads/Remote_work_1200x630.png\" width=\"600px\">\n",
        "\n",
        "credit: <a href=\"https://www.insperity.com/blog/remote-work-policy/\">insperity.com</a>\n",
        "</center>"
      ]
    },
    {
      "cell_type": "markdown",
      "metadata": {
        "id": "B7KIE9vxNWu8"
      },
      "source": [
        "## 1. What is Git?"
      ]
    },
    {
      "cell_type": "markdown",
      "metadata": {
        "id": "qecKAEQfNWu8"
      },
      "source": [
        "        - Git is a version control system. \n",
        "        - It is a tool to manage your source code history. \n",
        "        - So, you can track changes in your files and revert back to a previous version if needed. \n",
        "        - It also allows you to collaborate with other developers on the same project."
      ]
    },
    {
      "cell_type": "markdown",
      "metadata": {
        "id": "HAV4r9JoNWu9"
      },
      "source": [
        "## 2. Why use Git?\n"
      ]
    },
    {
      "cell_type": "markdown",
      "metadata": {
        "id": "uJikTtEdNWu9"
      },
      "source": [
        "\n",
        "        - It is a distributed version control system. \n",
        "        - This means that the full history of the project is stored locally on each developer's machine. \n",
        "        - This allows you to work offline and commit changes whenever you want. \n",
        "        - You can also work on the same project from multiple locations.\n",
        "        - It is fast.\n",
        "        - It is free and open source."
      ]
    },
    {
      "cell_type": "markdown",
      "metadata": {
        "id": "8GKOiYKJNWu9"
      },
      "source": [
        "<center> \n",
        "<img src=\"https://media.geeksforgeeks.org/wp-content/uploads/20190624140224/cvcss.png\" width=\"500\" height=\"300\" /> \n",
        "<img src=\"https://media.geeksforgeeks.org/wp-content/uploads/20190624140226/distvcs.png\" width=\"500\" height=\"300\" /> \n",
        "\n",
        "credit: [GeeksforGeeks](https://www.geeksforgeeks.org/version-control-systems/)\n",
        "\n",
        "</center>"
      ]
    },
    {
      "cell_type": "markdown",
      "metadata": {
        "id": "t9a77SjdNWu-"
      },
      "source": [
        "## 3. What is Github?\n"
      ]
    },
    {
      "cell_type": "markdown",
      "metadata": {
        "id": "H5obC9XnNWu-"
      },
      "source": [
        "        - It is a cloud-based hosting service that lets you manage Git repositories.\n"
      ]
    },
    {
      "cell_type": "markdown",
      "metadata": {
        "id": "CD_0LoEdNWu-"
      },
      "source": [
        "## 4. Git Terminology"
      ]
    },
    {
      "cell_type": "markdown",
      "metadata": {
        "id": "Cb0-XLVWNWu_"
      },
      "source": [
        "- **Repository**: \n",
        "\n",
        "        --> A repository is a directory or storage space where your project can live. \n",
        "        --> It can be local (on your computer) or remote (on a server, most likely GitHub). \n",
        "        --> A repository contains all of the project files (including documentation), and stores each file's revision history.\n",
        "\n",
        "- **Clone**: \n",
        "        \n",
        "        --> A clone is a copy of a repository that lives on your computer instead of on a website's server somewhere, or the act of making that copy.\n",
        "\n",
        "\n",
        "- **Commit**: \n",
        "\n",
        "        --> A commit is an individual change to a file (or set of files). \n",
        "        --> It's like when you save a file, except with Git.\n",
        "        --> Every time you save it creates a unique ID (hash) that allows you to keep record of what changes were made, when and by who. \n",
        "        --> Commits usually contain a commit message which is a brief description of what changes were made.\n",
        "\n",
        "- **Push**: \n",
        "\n",
        "        --> Pushing refers to sending your committed changes to a remote repository, such as a repository hosted on GitHub.\n",
        "\n",
        "- **Pull**: \n",
        "\n",
        "        --> When you are working with others in a repository, it is important to be up to date with the current state of the project.\n",
        "        --> You can do this by pulling in changes. \n",
        "        --> If your local copy is behind the remote copy, you may have to pull in order to push successfully.\n"
      ]
    },
    {
      "cell_type": "markdown",
      "metadata": {
        "id": "C6KarPGoNWu_"
      },
      "source": [
        "## 5. Git Commands\n"
      ]
    },
    {
      "cell_type": "markdown",
      "metadata": {
        "id": "E6sPkMFbV61x"
      },
      "source": [
        "\n",
        "- **git init**: \n",
        "\n",
        "        --> to start a new repository.\n",
        "\n",
        "- **git clone**: \n",
        "\n",
        "        --> used to obtain a repository from an existing URL.\n",
        "\n",
        "\n",
        "- **git add**: \n",
        "\n",
        "        --> adds a change in the working directory to the staging area. \n",
        "        --> It tells Git that you want to include updates to a particular file in the next commit.\n",
        "\n",
        "- **git status**: \n",
        "\n",
        "        --> displays the state of the working directory and the staging area; which changes have been staged and which files aren't being tracked by Git.\n",
        "\n",
        "- **git commit**: \n",
        "\n",
        "        -->  takes all of the changes that have been staged with git add and stores them in the repository.\n",
        "\n",
        "- **git push**: \n",
        "        \n",
        "         --> used to upload local repository content to a remote repository.\n",
        "\n",
        " - **git pull**: \n",
        "\n",
        "        --> used to fetch and download content from a remote repository and immediately update the local repository to match that content."
      ]
    },
    {
      "cell_type": "markdown",
      "metadata": {
        "id": "iGQ6XPG6NWvA"
      },
      "source": [
        "## 6. More Terminology"
      ]
    },
    {
      "cell_type": "markdown",
      "metadata": {
        "id": "jkgfDfvNNWvA"
      },
      "source": [
        "- **Fork**: \n",
        "\n",
        "        --> A fork is a personal copy of another user's repository that lives on your account. \n",
        "        --> Forks allow you to freely make changes to a project without affecting the original.\n",
        "        --> Forks remain attached to the original, allowing you to submit a pull request to the original's author to update with your changes.\n",
        "        --> You can also keep your fork up to date by pulling in updates from the original.\n",
        "\n",
        "\n",
        "- **Branch**: \n",
        "\n",
        "        --> A branch is a parallel version of a repository. \n",
        "        --> It is contained within the repository, but does not affect the primary or master branch allowing you to work freely without disrupting the \"live\" version.\n",
        "        --> When you've made the changes you want to make, you can merge your branch back into the master branch to publish your changes."
      ]
    },
    {
      "cell_type": "markdown",
      "metadata": {
        "id": "m-Zt21tVNWvA"
      },
      "source": [
        "<center>\n",
        "<div style=\"background-color:white; width:700px; padding:20px; border:1px solid black;\">\n",
        "<p> ...  </p>\n",
        "<img src=\"https://gitbookdown.dallasdatascience.com/img/git_branch_merge.png\" width=\"600px\">\n",
        "\n",
        "</div>\n",
        "\n",
        "credit: <a href=\"https://www.nobledesktop.com\">nobledesktop.com</a>\n",
        "\n",
        "</center>"
      ]
    },
    {
      "cell_type": "markdown",
      "metadata": {
        "id": "DDaLNU3zNWvA"
      },
      "source": [
        "<center>\n",
        "\n",
        "<img src=\"https://tedu.com.vn/uploaded/images/012021/gitflow.png\" width=\"700px\">\n",
        "\n",
        "credit: <a href=\"https://tedu.com.vn\">tedu.com</a>\n",
        "\n",
        "</center>"
      ]
    },
    {
      "cell_type": "markdown",
      "metadata": {
        "id": "qxd9nQAONWvA"
      },
      "source": [
        "## 7. More Commands"
      ]
    },
    {
      "cell_type": "markdown",
      "metadata": {
        "id": "4YuXEnYHNWvA"
      },
      "source": [
        "- **git log**: \n",
        "\n",
        "        --> used to list the version history for the current branch. It shows the commits made in that branch in reverse chronological order.\n",
        "\n",
        "- **git diff**: \n",
        "\n",
        "        --> shows the difference between the changes made in the working directory and the changes that have been staged.\n",
        "\n",
        "- **git checkout**: \n",
        "        \n",
        "        --> used to switch between branches or restore working tree files.\n",
        "\n",
        "- **git branch**: \n",
        "        \n",
        "        --> used to list, create, or delete branches.\n",
        "\n",
        "- **git merge**: \n",
        "                \n",
        "        --> used to join two or more development histories together.\n"
      ]
    }
  ],
  "metadata": {
    "colab": {
      "provenance": [],
      "include_colab_link": true
    },
    "kernelspec": {
      "display_name": "Python 3.9.12 ('base')",
      "language": "python",
      "name": "python3"
    },
    "language_info": {
      "codemirror_mode": {
        "name": "ipython",
        "version": 3
      },
      "file_extension": ".py",
      "mimetype": "text/x-python",
      "name": "python",
      "nbconvert_exporter": "python",
      "pygments_lexer": "ipython3",
      "version": "3.9.12"
    },
    "orig_nbformat": 4,
    "vscode": {
      "interpreter": {
        "hash": "cf09db7c5a43ebc020488360be383d2a4c3a085f9fc26d5b11b1a561cf0ad7de"
      }
    }
  },
  "nbformat": 4,
  "nbformat_minor": 0
}